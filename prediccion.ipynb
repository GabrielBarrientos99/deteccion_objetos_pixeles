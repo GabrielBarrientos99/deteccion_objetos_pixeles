{
 "cells": [
  {
   "cell_type": "markdown",
   "metadata": {},
   "source": [
    "<div style=\"display: flex; flex-direction: column; align-items: center; font-family: 'Arial';\">\n",
    "    <h1 style=\"color: #2c3e50;\">\n",
    "        <strong>Predicción de la Cantidad de Alumnos que Ingresan por un Pasillo de la UNI</strong>\n",
    "    </h1>\n",
    "    <hr style=\"width: 100%; border: 1px solid #3498db;\">    \n",
    "    <h2 style=\"color: #16a085;\">\n",
    "        Práctica Calificada de Computación Gráfica - Universidad Nacional de Ingeniería\n",
    "    </h2>    \n",
    "    <div style=\"display: flex; width: 100%; justify-content: space-between; padding: 10px;\">\n",
    "        <div style=\"flex: 1; padding-right: 20px;\">\n",
    "            <h3 style=\"font-family: 'Courier New'; color: #8e44ad;\">Integrantes:</h3>\n",
    "            <ul style=\"list-style-type: circle;\">\n",
    "                <li><strong>Estudiante 1:</strong> <a href=\"\" target=\"_blank\" style=\"text-decoration: none; color: #2980b9;\">Barrientos Cardenas, Gabriel Adrians</a></li>\n",
    "                <li><strong>Estudiante 2:</strong> <a href=\"\" target=\"_blank\" style=\"text-decoration: none; color: #2980b9;\">Del Rosario Sosa, Joshua Jean Paul</a></li>\n",
    "                <li><strong>Estudiante 3:</strong> <a href=\"\" target=\"_blank\" style=\"text-decoration: none; color: #2980b9;\">Yarleque Ramos, Gabriel Gerardo</a></li>\n",
    "            </ul>\n",
    "        </div>\n",
    "        <div style=\"flex: 1; padding-left: 20px;\">\n",
    "            <h3 style=\"font-family: 'Courier New'; color: #16a085;\">Curso:</h3>\n",
    "            <h4 style=\"color: #2ecc71;\">Computación Gráfica</h4>\n",
    "        </div>\n",
    "    </div>\n",
    "    <hr style=\"width: 100%; border: 1px solid #8e44ad;\">\n",
    "    <div style=\"display: flex; flex-direction: column; align-items: center; text-align: justify; padding: 10px;\">\n",
    "        <h3 style=\"font-family: 'Courier New'; color: #16a085;\">Descripción del Proyecto:</h3>\n",
    "        <p style=\"color: #34495e;\">\n",
    "            En este cuaderno se desarrolla un modelo predictivo para estimar la cantidad de alumnos que ingresan por un pasillo en la Universidad Nacional de Ingeniería. Se utilizan técnicas de Machine Learning y visión computacional para analizar los datos recolectados a partir de sensores y cámaras, optimizando así el flujo de estudiantes en áreas de alto tráfico.\n",
    "        </p>\n",
    "    </div>\n",
    "\n"
   ]
  },
  {
   "cell_type": "code",
   "execution_count": null,
   "metadata": {},
   "outputs": [],
   "source": [
    "# Resultados obtenidos \n",
    "\n",
    "cant_mañana = 14\n",
    "cant_tarde = 10\n",
    "cant_noche = 19\n",
    "\n"
   ]
  }
 ],
 "metadata": {
  "kernelspec": {
   "display_name": ".venv",
   "language": "python",
   "name": "python3"
  },
  "language_info": {
   "name": "python",
   "version": "3.12.4"
  }
 },
 "nbformat": 4,
 "nbformat_minor": 2
}
